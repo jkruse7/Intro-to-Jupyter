{
 "cells": [
  {
   "cell_type": "markdown",
   "metadata": {},
   "source": [
    "# Installing Jupyter Lab"
   ]
  },
  {
   "cell_type": "markdown",
   "metadata": {},
   "source": [
    "## Install git\n",
    "* Git for [Windows](https://git-scm.com/downloads) (Use default settings)\n",
    "* Git for macOS (two options):\n",
    "  * Install [Xcode](https://apps.apple.com/us/app/xcode/id497799835?mt=12) (Xcode comes with Git)\n",
    "    * App takes up 11 GB of storage. If you are low on memory, try installing Homebrew.\n",
    "  * Install [Homebrew](https://brew.sh)\n",
    "    * Follow [macOS Git instructions](https://git-scm.com/download/mac) for Homebrew\n",
    "    * Not necessary if you installed Xcode (but still potentially useful down the line!)\n",
    "\n",
    "## Install Anaconda\n",
    "* [macOS](https://www.anaconda.com/products/individual#macos)\n",
    "  * Download the graphical macOS installer. (Keep default settings)\n",
    "  * Follow the instructions presented by the graphical installer\n",
    "* [Windows](https://www.anaconda.com/products/individual#windows)\n",
    "  * Download the graphical installer. (Keep default settings)\n",
    "    * Once installed it will take a bit to open up for the first time.\n",
    "\n",
    "**Note:** Both the Mac and Windows installers will ask you if you want to install PyCharm. This is an application that some people use to make coding more convenient. You don’t have to download it, and we certainly won’t be using it in this course. But it won’t hurt to download it, and it could be useful for future python programming courses. Either way, don’t sweat it.\n",
    "\n",
    "## Find and Open JupyterLab\n",
    "* Once you have Anaconda installed, open up the Anaconda Navigator by searching in your computer search bar for the Anaconda Navigator application. \n",
    "* After opening up the Anaconda Navigator, you will immediately see several applications. Click the blue Launch button under JupyterLab application. We will be using JupyterLab throughout the semester.\n",
    "* Once JupyterLab opens successfully in a new window, shut it down by completing the following steps:\n",
    "  1. First, make sure you have saved your work. Do this by going to the top left and clicking File → Save\n",
    "  2. If you haven’t saved the notebook before, you may want to use File → Save as\n",
    "     * You can also save by clicking the floppy disk icon (and yes, I realize that many of you have probably never seen a floppy disk in your life 😂)\n",
    "  3. In the top left of the JupyterLab window, click Kernel → Shut Down All Kernels\n",
    "  4. In the top left of the JupyterLab window, click File → Shut Down\n",
    "\n",
    "**NOTE:** You will want to perform these steps every time before you close the JupyterLab or JupyterNotebook tab.\n",
    "\n",
    "## Using the cmpinf0010 Environment\n",
    "1. Find the environment.yml file in this directory\n",
    "  * The environment name default will be called cmpinf0010. Don’t change this please\n",
    "2. In the Anaconda Navigator window, click the Environments tab on the left side toolbar.\n",
    "3. Click the import button on the button left of the Environments window in the Anaconda-Navigator.\n",
    "4. Use the file logo in the pop-up window to find/navigate to the environment.yml file\n",
    "5. Click import.\n",
    "\n",
    "**NOTE:** On the bottom right hand side of the Environments screen you will see a loading bar - wait until the cmpinf0010 environment is completely imported. This may take awhile, and that’s ok! You may want to make sure your computer is plugged into a charger.\n",
    "\n",
    "## Open JupyterLab via the cmpinf0010 environment:\n",
    "1. Once your cmpinf0010 environment is fully imported, switch back to the Home tab in the Anaconda Navigator.\n",
    "2. In the top, make sure the correct environment is selected in the dropdown box next to “Applications on”. Select cmpinf0010 if a different environment name is there.\n",
    "3. Launch JupyterLab\n",
    "4. If your JupyterLab opens in a new window, click Python 3 under Notebook.\n",
    "5. Type the following into the empty cell in the JupyterNotebook: `import geopandas`\n",
    "   1. Hit the Shift and Command/Control (Shift+Command/Control) keys at the same time while still clicked in that cell.\n",
    "   2. If you do not receive any errors, you have successfully imported the environment for this course. \n",
    "\n",
    "## Verify packages on the cmpinf0010 environment\n",
    "1. Open the environment tab in Anaconda-Navigator. Make sure the cmpinf0010 environment is selected. On the right side, you will see all the packages installed on the cmpinf0010 environment. \n",
    "2. In the search bar search for scipy Verify that is installed. Then search for geopandas, pandas, matplotlib. Verify there are all installed.\n",
    "3. If there is any package you find missing, please alert a TA.\n",
    "\t\n",
    "\n"
   ]
  },
  {
   "cell_type": "markdown",
   "metadata": {},
   "source": []
  }
 ],
 "metadata": {
  "kernelspec": {
   "display_name": "Python 3.8.6 32-bit",
   "language": "python",
   "name": "python3"
  },
  "language_info": {
   "codemirror_mode": {
    "name": "ipython",
    "version": 3
   },
   "file_extension": ".py",
   "mimetype": "text/x-python",
   "name": "python",
   "nbconvert_exporter": "python",
   "pygments_lexer": "ipython3",
   "version": "3.8.6"
  },
  "orig_nbformat": 4,
  "vscode": {
   "interpreter": {
    "hash": "75e4a6a75c2bafdb358241a31c28830e81db8b6e5287e59fc181d3e0eb9324ab"
   }
  }
 },
 "nbformat": 4,
 "nbformat_minor": 2
}
